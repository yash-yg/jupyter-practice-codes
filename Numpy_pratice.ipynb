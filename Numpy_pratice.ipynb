{
 "cells": [
  {
   "cell_type": "code",
   "execution_count": 7,
   "metadata": {
    "jupyter": {
     "source_hidden": true
    },
    "tags": []
   },
   "outputs": [],
   "source": [
    "np1 = np.array([x for x in range(10)] )\n",
    "np1"
   ]
  },
  {
   "cell_type": "code",
   "execution_count": 15,
   "metadata": {},
   "outputs": [
    {
     "name": "stdout",
     "output_type": "stream",
     "text": [
      "2.0\n"
     ]
    }
   ],
   "source": [
    " import math\n",
    "print(math.sqrt(4))"
   ]
  },
  {
   "cell_type": "code",
   "execution_count": 19,
   "metadata": {},
   "outputs": [
    {
     "name": "stdout",
     "output_type": "stream",
     "text": [
      "[2]\n",
      "[2 3 4]\n",
      "[[ 2  4  6]\n",
      " [45  7  8]]\n",
      "[[[ 2  4  6]\n",
      "  [45  7  8]]\n",
      "\n",
      " [[ 6  8  0]\n",
      "  [ 2  8  4]]]\n",
      "1\n",
      "1\n",
      "2\n",
      "3\n",
      "[[ 4  7 10]\n",
      " [47 10 12]]\n"
     ]
    }
   ],
   "source": [
    "#multim=dimensional arrays\n",
    "np0=np.array([2])\n",
    "np1=np.array([2,3,4])\n",
    "np2=np.array([[2,4,6],[45,7,8]])\n",
    "np3=np.array([[[2,4,6],[45,7,8]],[[6,8,0],[2,8,4]]])\n",
    "print(np0)\n",
    "print(np1)\n",
    "print(np2)\n",
    "print(np3)\n",
    "\n",
    "print(np0.ndim)\n",
    "print(np1.ndim)\n",
    "print(np2.ndim)\n",
    "print(np3.ndim)\n",
    "sumnp= np2 + np1\n",
    "print(sumnp)"
   ]
  },
  {
   "cell_type": "code",
   "execution_count": 18,
   "metadata": {},
   "outputs": [
    {
     "name": "stdout",
     "output_type": "stream",
     "text": [
      "(1,)\n",
      "(3,)\n",
      "(2, 3)\n",
      "(2, 2, 3)\n",
      "[[2 2]\n",
      " [3 4]]\n",
      "[4 5 6]\n",
      "[0 1 2]\n",
      "[0 1 0]\n",
      "6.5\n",
      "12.0\n",
      "12.0\n"
     ]
    }
   ],
   "source": [
    "#Array manipulation function\n",
    "\n",
    "np0=np.array([2])\n",
    "np1=np.array([2,3,4])\n",
    "np2=np.array([[2,4,6],[45,7,8]])\n",
    "np3=np.array([[[2,4,6],[45,7,8]],[[6,8,0],[2,8,4]]])\n",
    "print(np0.shape)\n",
    "print(np1.shape)\n",
    "print(np2.shape)\n",
    "print(np3.shape)\n",
    "np_concat = np.concatenate((np0 ,np1))\n",
    "np_concat\n",
    "print(np_concat.reshape(2,2))\n",
    "\n",
    "#numpy arithmetic fn\n",
    "\n",
    "print(np.add(np1,np0))\n",
    "print(np.subtract(np1,np0))\n",
    "print(np.mod(np1,np0))\n",
    "\n",
    "#numpy statistical fn\n",
    "\n",
    "print(np.median(np2))\n",
    "print(np.mean(np2))\n",
    "print(np.average(np2))"
   ]
  },
  {
   "cell_type": "code",
   "execution_count": null,
   "metadata": {},
   "outputs": [],
   "source": []
  },
  {
   "cell_type": "code",
   "execution_count": null,
   "metadata": {},
   "outputs": [],
   "source": []
  },
  {
   "cell_type": "code",
   "execution_count": 17,
   "metadata": {},
   "outputs": [
    {
     "name": "stdout",
     "output_type": "stream",
     "text": [
      "['hello', 'HOW', 'you']\n",
      "['hi' 'where' 'you']\n",
      "['hellohi' 'HOWwhere' 'youyou']\n",
      "Hello how are guy?\n",
      "ash how are guy?\n",
      "HELLO HOW ARE GUY?\n",
      "hello how are guy?\n",
      "ash how are guy?\n"
     ]
    }
   ],
   "source": [
    "#numpy string functions\n",
    "a = [\"hello\",\"HOW\", \"you\"]\n",
    "print(a)\n",
    "b = np.array([\"hi\",\"where\",\"you\"])\n",
    "print(b)\n",
    "c = np.char.add(a,b)\n",
    "print(c)\n",
    "\n",
    "d= \"Hello how are guy?\"\n",
    "print(d)\n",
    "e = np.char.replace(d,'Hello','ash')\n",
    "print(e)\n",
    "\n",
    "print(np.char.upper(d))\n",
    "print(np.char.lower(d))\n",
    "d= \"Hello how are guy?\"\n",
    "e = np.char.replace(d,'Hello','ash')\n",
    "print(e)\n"
   ]
  },
  {
   "cell_type": "code",
   "execution_count": 24,
   "metadata": {},
   "outputs": [
    {
     "name": "stdout",
     "output_type": "stream",
     "text": [
      "2\n",
      "3\n",
      "6\n",
      "9\n",
      "9\n"
     ]
    }
   ],
   "source": [
    "#Array indexing\n",
    "import numpy as np\n",
    "a0 = np.array([2])\n",
    "a1 = np.array([2,3,6])\n",
    "a2 = np.array([[2,3,4],[5,67,8],[4,6,0]])\n",
    "a3 = np.array([[[2,3,4],[5,67,8],[4,6,0]],[[2,4,6],[5,7,9],[6,1,34]],[[2,87,34],[67,67,88],[44,63,30]]])\n",
    "vhc = np.array([['car','bus','Rowboat','Bicycle'], \n",
    "['train','flight','Truck', 'Ship']])\n",
    "\n",
    "print(a0[0])\n",
    "print(a1[1])\n",
    "print(a2[2,1])\n",
    "print(a3[1,1,2])\n",
    "print(a3[-2,-2,-1])"
   ]
  },
  {
   "cell_type": "code",
   "execution_count": 13,
   "metadata": {},
   "outputs": [
    {
     "name": "stdout",
     "output_type": "stream",
     "text": [
      "[1 3 5]\n",
      "[3.  3.5 4.  4.5 5.  5.5 6.  6.5 7.  7.5 8.  8.5]\n",
      "[1.         1.44444444 1.88888889 2.33333333 2.77777778 3.22222222\n",
      " 3.66666667 4.11111111 4.55555556 5.        ]\n",
      "[3 5 6 7 5]\n",
      "[3 6 5]\n",
      "[3 4 6]\n",
      "[34  6  0]\n",
      "[3 4 5 6 7 8]\n",
      "[3 5 6]\n"
     ]
    }
   ],
   "source": [
    "#slicing\n",
    "import numpy as np\n",
    "np1 = np.array([x for x in range(10)])\n",
    "np2 = np.array([1,3,5,6,7,5,78])\n",
    "a2 = np.array([[2,3,4,6,8,9],[6,5,43,5,67,8],[4,6,7,34,6,0]])\n",
    "n = np.arange(1,7,2)\n",
    "print(n)\n",
    "print(np.arange(3,9,0.5))\n",
    "print(np.linspace(1,5,10))\n",
    "print(np2[1:6])\n",
    "print(np2[1:6:2])\n",
    "print(a2[0,1:4])\n",
    "print(a2[2,3:])\n",
    "print(np1[3:-1])\n",
    "print(np2[1:-3])"
   ]
  },
  {
   "cell_type": "code",
   "execution_count": 66,
   "metadata": {},
   "outputs": [
    {
     "name": "stdout",
     "output_type": "stream",
     "text": [
      "0.2652991708837562\n",
      "[[-0.89206622 -1.2053281  -0.26636721]\n",
      " [-0.45670744  1.23419535  0.48856558]]\n",
      "3\n",
      "the random no is 1\n",
      "[[4 4]\n",
      " [6 4]]\n",
      "17\n"
     ]
    }
   ],
   "source": [
    "#Random function\n",
    "import random\n",
    "import numpy as np\n",
    "print(np.random.random())\n",
    "print(np.random.randn(2,3))\n",
    "print(np.random.randint(2,8))\n",
    "random_no = random.randint(1,6)\n",
    "print(\"the random no is %s\" %(random_no))\n",
    "print(np.random.randint(2,8,(2,2)))\n",
    "for i in range(5) : \n",
    "    random.seed(13)\n",
    "print(random.randint(1,50))"
   ]
  },
  {
   "cell_type": "code",
   "execution_count": 12,
   "metadata": {},
   "outputs": [
    {
     "name": "stdout",
     "output_type": "stream",
     "text": [
      "[ 0  1  2  3  4  5  6  7  8  9 10 11]\n",
      "[[ 0  1  2  3]\n",
      " [ 4  5  6  7]\n",
      " [ 8  9 10 11]]\n",
      "[ 2  3  4  6  8  9  6  5 43  5 67  8  4  6  7 34  6  0]\n",
      "<class 'numpy.ndarray'>\n"
     ]
    }
   ],
   "source": [
    "#reshape and ravel fn\n",
    "import numpy as np\n",
    "a= np.arange(12)\n",
    "print(a)\n",
    "print(np.reshape(a,(3,4)))\n",
    "a2 = np.array([[2,3,4,6,8,9],[6,5,43,5,67,8],[4,6,7,34,6,0]])\n",
    "print(np.ravel(a2))\n",
    "print(type(a2))\n"
   ]
  }
 ],
 "metadata": {
  "kernelspec": {
   "display_name": "Python 3",
   "language": "python",
   "name": "python3"
  },
  "language_info": {
   "codemirror_mode": {
    "name": "ipython",
    "version": 3
   },
   "file_extension": ".py",
   "mimetype": "text/x-python",
   "name": "python",
   "nbconvert_exporter": "python",
   "pygments_lexer": "ipython3",
   "version": "3.7.6"
  }
 },
 "nbformat": 4,
 "nbformat_minor": 4
}
